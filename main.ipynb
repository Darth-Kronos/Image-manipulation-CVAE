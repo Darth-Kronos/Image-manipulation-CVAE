{
 "cells": [
  {
   "cell_type": "code",
   "execution_count": 1,
   "metadata": {},
   "outputs": [],
   "source": [
    "import torch\n",
    "import os\n",
    "from torch import nn\n",
    "from torch.nn import functional as F\n",
    "from PIL import Image\n",
    "from torch.utils.data import Dataset\n",
    "from torchvision import transforms, datasets\n",
    "from torch.utils.data import DataLoader\n",
    "# from natsort import natsorted"
   ]
  },
  {
   "cell_type": "code",
   "execution_count": 12,
   "metadata": {},
   "outputs": [],
   "source": [
    "image_size = 64\n",
    "batch_size = 32\n"
   ]
  },
  {
   "cell_type": "code",
   "execution_count": 13,
   "metadata": {},
   "outputs": [],
   "source": [
    "transform = transforms.Compose([\n",
    "    transforms.Resize((image_size, image_size)),\n",
    "    transforms.ToTensor(),\n",
    "    # transforms.Normalize((0.5, 0.5, 0.5), (0.5, 0.5, 0.5))\n",
    "])"
   ]
  },
  {
   "cell_type": "code",
   "execution_count": 14,
   "metadata": {},
   "outputs": [
    {
     "name": "stdout",
     "output_type": "stream",
     "text": [
      "Files already downloaded and verified\n",
      "Files already downloaded and verified\n"
     ]
    }
   ],
   "source": [
    "train_dataset = datasets.CelebA(root='data/', split='train', transform=transform, target_type='attr',download=True)\n",
    "test_dataset = datasets.CelebA(root='data/', split='test', transform=transform, target_type='attr',download=True)"
   ]
  },
  {
   "cell_type": "code",
   "execution_count": 15,
   "metadata": {},
   "outputs": [
    {
     "data": {
      "text/plain": [
       "(Dataset CelebA\n",
       "     Number of datapoints: 162770\n",
       "     Root location: data/\n",
       "     Target type: ['attr']\n",
       "     Split: train\n",
       "     StandardTransform\n",
       " Transform: Compose(\n",
       "                Resize(size=(64, 64), interpolation=bilinear, max_size=None, antialias=None)\n",
       "                ToTensor()\n",
       "            ),\n",
       " Dataset CelebA\n",
       "     Number of datapoints: 19962\n",
       "     Root location: data/\n",
       "     Target type: ['attr']\n",
       "     Split: test\n",
       "     StandardTransform\n",
       " Transform: Compose(\n",
       "                Resize(size=(64, 64), interpolation=bilinear, max_size=None, antialias=None)\n",
       "                ToTensor()\n",
       "            ))"
      ]
     },
     "execution_count": 15,
     "metadata": {},
     "output_type": "execute_result"
    }
   ],
   "source": [
    "train_dataset, test_dataset"
   ]
  },
  {
   "cell_type": "code",
   "execution_count": 16,
   "metadata": {},
   "outputs": [],
   "source": [
    "train_data_loader = DataLoader(dataset=train_dataset, batch_size=batch_size, shuffle=True, num_workers=8, drop_last=True)\n",
    "test_data_loader = DataLoader(dataset=test_dataset, batch_size=batch_size, shuffle=False, num_workers=8, drop_last=True)"
   ]
  },
  {
   "cell_type": "code",
   "execution_count": 17,
   "metadata": {},
   "outputs": [],
   "source": [
    "device = 'mps'"
   ]
  },
  {
   "cell_type": "code",
   "execution_count": 18,
   "metadata": {},
   "outputs": [],
   "source": [
    "class ConditionalVAE(nn.Module):\n",
    "\n",
    "    def __init__(self,\n",
    "                 in_channels: int,\n",
    "                 num_classes: int,\n",
    "                 latent_dim: int,\n",
    "                 encoder_dims: list,\n",
    "                 decoder_dims: list,\n",
    "                 img_size:int = 64,\n",
    "                 **kwargs) -> None:\n",
    "        super(ConditionalVAE, self).__init__()\n",
    "\n",
    "        self.latent_dim = latent_dim\n",
    "        self.img_size = img_size\n",
    "\n",
    "        self.embedd_class = nn.Linear(num_classes, img_size * img_size)\n",
    "        self.embed_data = nn.Conv2d(in_channels, in_channels, kernel_size=1)\n",
    "\n",
    "        modules = []\n",
    "        self.encoder = nn.ModuleList()\n",
    "        in_channels += 1 # To account for the extra label channel\n",
    "        for i in encoder_dims:\n",
    "            self.encoder.append(\n",
    "                nn.Conv2d(in_channels, out_channels=i,\n",
    "                          kernel_size=3,stride=2, padding=1)\n",
    "            )\n",
    "            self.encoder.append(nn.LeakyReLU())\n",
    "\n",
    "            in_channels = i\n",
    "\n",
    "        self.encoder = nn.Sequential(*self.encoder)\n",
    "        self.fc_mu = nn.Linear(encoder_dims[-1]*4, latent_dim)\n",
    "        self.fc_var = nn.Linear(encoder_dims[-1]*4, latent_dim)\n",
    "\n",
    "\n",
    "        # Build Decoder\n",
    "\n",
    "        self.decoder_input = nn.Linear(latent_dim + num_classes, encoder_dims[-1] * 4)\n",
    "\n",
    "        self.decoder = nn.ModuleList()\n",
    "\n",
    "        decoder_in_channel = encoder_dims[-1]\n",
    "        for i in range(len(decoder_dims)):\n",
    "\n",
    "            self.decoder.append(\n",
    "                nn.ConvTranspose2d(decoder_in_channel,\n",
    "                                       decoder_dims[i],\n",
    "                                       kernel_size=3,\n",
    "                                       stride = 2,\n",
    "                                       padding=1,\n",
    "                                       output_padding=1),\n",
    "            )\n",
    "\n",
    "            self.decoder.append(\n",
    "                nn.LeakyReLU()\n",
    "            )\n",
    "\n",
    "            decoder_in_channel = decoder_dims[i]\n",
    "\n",
    "\n",
    "        self.decoder = nn.Sequential(*self.decoder)\n",
    "\n",
    "        self.final_layer = nn.Sequential(\n",
    "                            nn.Conv2d(decoder_dims[-1], out_channels= 3,\n",
    "                                      kernel_size= 3, padding= 1),\n",
    "                            nn.Tanh())\n",
    "\n",
    "    def encode(self, input) :\n",
    "       \n",
    "        result = self.encoder(input)\n",
    "        result = torch.flatten(result, start_dim=1)\n",
    "\n",
    "        # Split the result into mu and var components\n",
    "        # of the latent Gaussian distribution\n",
    "        mu = self.fc_mu(result)\n",
    "        log_var = self.fc_var(result)\n",
    "\n",
    "        return [mu, log_var]\n",
    "\n",
    "    def decode(self, z) :\n",
    "        result = self.decoder_input(z)\n",
    "        result = result.view(-1, 512, 2, 2)\n",
    "        result = self.decoder(result)\n",
    "        result = self.final_layer(result)\n",
    "        return result\n",
    "\n",
    "    def reparameterize(self, mu, logvar) :\n",
    "\n",
    "        std = torch.exp(0.5 * logvar)\n",
    "        eps = torch.randn_like(std)\n",
    "        return eps * std + mu\n",
    "\n",
    "    def forward(self, input, c) :\n",
    "        embedded_class = self.embedd_class(c) # Embedding 40 -> 64*64\n",
    "        embedded_class = embedded_class.view(-1, self.img_size, self.img_size).unsqueeze(1) # reshape to (1,64,64)\n",
    "        # embedded_input = self.embed_data(input)\n",
    "\n",
    "        x = torch.cat([input, embedded_class], dim = 1)\n",
    "        mu, log_var = self.encode(x)\n",
    "\n",
    "        z = self.reparameterize(mu, log_var)\n",
    "\n",
    "        z = torch.cat([z, c], dim = 1)\n",
    "        return  self.decode(z), mu, log_var\n",
    "\n",
    "    \n",
    "\n",
    "    def sample(self,\n",
    "               num_samples:int,\n",
    "               current_device: int,\n",
    "               **kwargs) :\n",
    "        \"\"\"\n",
    "        Samples from the latent space and return the corresponding\n",
    "        image space map.\n",
    "        :param num_samples: (Int) Number of samples\n",
    "        :param current_device: (Int) Device to run the model\n",
    "        :return: (Tensor)\n",
    "        \"\"\"\n",
    "        y = kwargs['labels'].float()\n",
    "        z = torch.randn(num_samples,\n",
    "                        self.latent_dim)\n",
    "\n",
    "        z = z.to(current_device)\n",
    "\n",
    "        z = torch.cat([z, y], dim=1)\n",
    "        samples = self.decode(z)\n",
    "        return samples\n",
    "\n",
    "    def generate(self, x, **kwargs) :\n",
    "        \"\"\"\n",
    "        Given an input image x, returns the reconstructed image\n",
    "        :param x: (Tensor) [B x C x H x W]\n",
    "        :return: (Tensor) [B x C x H x W]\n",
    "        \"\"\"\n",
    "\n",
    "        return self.forward(x, **kwargs)[0]"
   ]
  },
  {
   "cell_type": "code",
   "execution_count": 19,
   "metadata": {},
   "outputs": [
    {
     "data": {
      "text/plain": [
       "ConditionalVAE(\n",
       "  (embedd_class): Linear(in_features=40, out_features=4096, bias=True)\n",
       "  (embed_data): Conv2d(3, 3, kernel_size=(1, 1), stride=(1, 1))\n",
       "  (encoder): Sequential(\n",
       "    (0): Conv2d(4, 32, kernel_size=(3, 3), stride=(2, 2), padding=(1, 1))\n",
       "    (1): LeakyReLU(negative_slope=0.01)\n",
       "    (2): Conv2d(32, 64, kernel_size=(3, 3), stride=(2, 2), padding=(1, 1))\n",
       "    (3): LeakyReLU(negative_slope=0.01)\n",
       "    (4): Conv2d(64, 128, kernel_size=(3, 3), stride=(2, 2), padding=(1, 1))\n",
       "    (5): LeakyReLU(negative_slope=0.01)\n",
       "    (6): Conv2d(128, 256, kernel_size=(3, 3), stride=(2, 2), padding=(1, 1))\n",
       "    (7): LeakyReLU(negative_slope=0.01)\n",
       "    (8): Conv2d(256, 512, kernel_size=(3, 3), stride=(2, 2), padding=(1, 1))\n",
       "    (9): LeakyReLU(negative_slope=0.01)\n",
       "  )\n",
       "  (fc_mu): Linear(in_features=2048, out_features=128, bias=True)\n",
       "  (fc_var): Linear(in_features=2048, out_features=128, bias=True)\n",
       "  (decoder_input): Linear(in_features=168, out_features=2048, bias=True)\n",
       "  (decoder): Sequential(\n",
       "    (0): ConvTranspose2d(512, 256, kernel_size=(3, 3), stride=(2, 2), padding=(1, 1), output_padding=(1, 1))\n",
       "    (1): LeakyReLU(negative_slope=0.01)\n",
       "    (2): ConvTranspose2d(256, 128, kernel_size=(3, 3), stride=(2, 2), padding=(1, 1), output_padding=(1, 1))\n",
       "    (3): LeakyReLU(negative_slope=0.01)\n",
       "    (4): ConvTranspose2d(128, 64, kernel_size=(3, 3), stride=(2, 2), padding=(1, 1), output_padding=(1, 1))\n",
       "    (5): LeakyReLU(negative_slope=0.01)\n",
       "    (6): ConvTranspose2d(64, 32, kernel_size=(3, 3), stride=(2, 2), padding=(1, 1), output_padding=(1, 1))\n",
       "    (7): LeakyReLU(negative_slope=0.01)\n",
       "    (8): ConvTranspose2d(32, 32, kernel_size=(3, 3), stride=(2, 2), padding=(1, 1), output_padding=(1, 1))\n",
       "    (9): LeakyReLU(negative_slope=0.01)\n",
       "  )\n",
       "  (final_layer): Sequential(\n",
       "    (0): Conv2d(32, 3, kernel_size=(3, 3), stride=(1, 1), padding=(1, 1))\n",
       "    (1): Tanh()\n",
       "  )\n",
       ")"
      ]
     },
     "execution_count": 19,
     "metadata": {},
     "output_type": "execute_result"
    }
   ],
   "source": [
    "model = ConditionalVAE(3, 40, 128, [32, 64, 128, 256, 512], [256, 128, 64, 32, 32])\n",
    "model.to(device)"
   ]
  },
  {
   "cell_type": "code",
   "execution_count": 20,
   "metadata": {},
   "outputs": [],
   "source": [
    "def loss_function(input, recons, mu, log_var):\n",
    "    recons_loss =F.mse_loss(recons, input)\n",
    "    kld_loss = torch.mean(-0.5 * torch.sum(1 + log_var - mu ** 2 - log_var.exp(), dim = 1), dim = 0)\n",
    "    loss = recons_loss + kld_loss\n",
    "    return loss\n",
    "\n",
    "def train_step(model: torch.nn.Module,\n",
    "               data_loader: torch.utils.data.DataLoader,\n",
    "               optimizer: torch.optim.Optimizer,\n",
    "               device: torch.device = device):\n",
    "    train_loss = 0\n",
    "    for batch, (X, y) in enumerate(data_loader):\n",
    "        # Send training data to CPU or GPU\n",
    "        X = X.to(torch.float32)\n",
    "        y = y.to(torch.float32)\n",
    "        X, y = X.to(device), y.to(device)\n",
    "        # Forward pass\n",
    "        X_hat, mu, log_var = model(X,y) \n",
    "\n",
    "        # Calculate loss\n",
    "        loss = loss_function(X, X_hat, mu, log_var)\n",
    "        # print(loss)\n",
    "        train_loss += loss\n",
    "\n",
    "        # Grad of optimizer to zero (optimization the weights)\n",
    "        optimizer.zero_grad()\n",
    "\n",
    "        # Update the weights by backpropagation\n",
    "        loss.backward()\n",
    "        optimizer.step()\n",
    "\n",
    "    # Calculate loss and accuracy per epoch\n",
    "    train_loss /= len(data_loader)\n",
    "    # train_acc /= len(data_loader)\n",
    "    print(f\"Train loss: {train_loss:.5f}\\n\")\n",
    "    return train_loss.to('cpu').detach().numpy()\n",
    "\n",
    "def test_step(data_loader: torch.utils.data.DataLoader,\n",
    "              model: torch.nn.Module,\n",
    "              device: torch.device = device):\n",
    "    test_loss, test_acc = 0, 0\n",
    "    model.eval() # put model in evaluation mode\n",
    "\n",
    "    with torch.inference_mode(): \n",
    "        for X, y in data_loader:\n",
    "            # Send testing data to CPU or GPU\n",
    "            X = X.to(torch.float32)\n",
    "            y = y.to(torch.float32)\n",
    "            X, y = X.to(device), y.to(device)\n",
    "            \n",
    "            # Forward pass\n",
    "            X_hat, X, mu, log_var = model(X,y)\n",
    "            \n",
    "            # Calculate loss and accuracy\n",
    "            test_loss += loss_function(X, X_hat, mu, log_var)\n",
    "    \n",
    "        test_loss /= len(data_loader)\n",
    "        # test_acc /= len(data_loader)\n",
    "        print(f\"Test loss: {test_loss:.5f}\\n\")\n",
    "        return test_loss.detach().numpy()"
   ]
  },
  {
   "cell_type": "code",
   "execution_count": 21,
   "metadata": {},
   "outputs": [],
   "source": [
    "optimizer = torch.optim.Adam(model.parameters(), lr=0.005)"
   ]
  },
  {
   "cell_type": "code",
   "execution_count": 17,
   "metadata": {},
   "outputs": [
    {
     "name": "stdout",
     "output_type": "stream",
     "text": [
      "Epoch: 0\n",
      "---------\n"
     ]
    },
    {
     "ename": "KeyboardInterrupt",
     "evalue": "",
     "output_type": "error",
     "traceback": [
      "\u001b[0;31m---------------------------------------------------------------------------\u001b[0m",
      "\u001b[0;31mKeyboardInterrupt\u001b[0m                         Traceback (most recent call last)",
      "\u001b[1;32m/Users/purushothamanyadav/Documents/NCSU/Spring23/Adv ML/HWs/HW3/main.ipynb Cell 12\u001b[0m in \u001b[0;36m<cell line: 6>\u001b[0;34m()\u001b[0m\n\u001b[1;32m      <a href='vscode-notebook-cell:/Users/purushothamanyadav/Documents/NCSU/Spring23/Adv%20ML/HWs/HW3/main.ipynb#X30sZmlsZQ%3D%3D?line=5'>6</a>\u001b[0m \u001b[39mfor\u001b[39;00m epoch \u001b[39min\u001b[39;00m \u001b[39mrange\u001b[39m(epochs):\n\u001b[1;32m      <a href='vscode-notebook-cell:/Users/purushothamanyadav/Documents/NCSU/Spring23/Adv%20ML/HWs/HW3/main.ipynb#X30sZmlsZQ%3D%3D?line=6'>7</a>\u001b[0m     \u001b[39mprint\u001b[39m(\u001b[39mf\u001b[39m\u001b[39m\"\u001b[39m\u001b[39mEpoch: \u001b[39m\u001b[39m{\u001b[39;00mepoch\u001b[39m}\u001b[39;00m\u001b[39m\\n\u001b[39;00m\u001b[39m---------\u001b[39m\u001b[39m\"\u001b[39m)\n\u001b[0;32m----> <a href='vscode-notebook-cell:/Users/purushothamanyadav/Documents/NCSU/Spring23/Adv%20ML/HWs/HW3/main.ipynb#X30sZmlsZQ%3D%3D?line=7'>8</a>\u001b[0m     train_loss, train_acc \u001b[39m=\u001b[39m train_step(data_loader\u001b[39m=\u001b[39;49mtrain_data_loader, \n\u001b[1;32m      <a href='vscode-notebook-cell:/Users/purushothamanyadav/Documents/NCSU/Spring23/Adv%20ML/HWs/HW3/main.ipynb#X30sZmlsZQ%3D%3D?line=8'>9</a>\u001b[0m         model\u001b[39m=\u001b[39;49mmodel, \n\u001b[1;32m     <a href='vscode-notebook-cell:/Users/purushothamanyadav/Documents/NCSU/Spring23/Adv%20ML/HWs/HW3/main.ipynb#X30sZmlsZQ%3D%3D?line=9'>10</a>\u001b[0m         optimizer\u001b[39m=\u001b[39;49moptimizer\n\u001b[1;32m     <a href='vscode-notebook-cell:/Users/purushothamanyadav/Documents/NCSU/Spring23/Adv%20ML/HWs/HW3/main.ipynb#X30sZmlsZQ%3D%3D?line=10'>11</a>\u001b[0m     )\n\u001b[1;32m     <a href='vscode-notebook-cell:/Users/purushothamanyadav/Documents/NCSU/Spring23/Adv%20ML/HWs/HW3/main.ipynb#X30sZmlsZQ%3D%3D?line=12'>13</a>\u001b[0m     train_plot\u001b[39m.\u001b[39mappend((train_acc, train_loss))\n\u001b[1;32m     <a href='vscode-notebook-cell:/Users/purushothamanyadav/Documents/NCSU/Spring23/Adv%20ML/HWs/HW3/main.ipynb#X30sZmlsZQ%3D%3D?line=14'>15</a>\u001b[0m     test_loss, test_acc \u001b[39m=\u001b[39m test_step(data_loader\u001b[39m=\u001b[39mtest_data_loader,\n\u001b[1;32m     <a href='vscode-notebook-cell:/Users/purushothamanyadav/Documents/NCSU/Spring23/Adv%20ML/HWs/HW3/main.ipynb#X30sZmlsZQ%3D%3D?line=15'>16</a>\u001b[0m         model\u001b[39m=\u001b[39mmodel,\n\u001b[1;32m     <a href='vscode-notebook-cell:/Users/purushothamanyadav/Documents/NCSU/Spring23/Adv%20ML/HWs/HW3/main.ipynb#X30sZmlsZQ%3D%3D?line=16'>17</a>\u001b[0m     )\n",
      "\u001b[1;32m/Users/purushothamanyadav/Documents/NCSU/Spring23/Adv ML/HWs/HW3/main.ipynb Cell 12\u001b[0m in \u001b[0;36mtrain_step\u001b[0;34m(model, data_loader, optimizer, device)\u001b[0m\n\u001b[1;32m     <a href='vscode-notebook-cell:/Users/purushothamanyadav/Documents/NCSU/Spring23/Adv%20ML/HWs/HW3/main.ipynb#X30sZmlsZQ%3D%3D?line=15'>16</a>\u001b[0m X, y \u001b[39m=\u001b[39m X\u001b[39m.\u001b[39mto(device), y\u001b[39m.\u001b[39mto(device)\n\u001b[1;32m     <a href='vscode-notebook-cell:/Users/purushothamanyadav/Documents/NCSU/Spring23/Adv%20ML/HWs/HW3/main.ipynb#X30sZmlsZQ%3D%3D?line=16'>17</a>\u001b[0m \u001b[39m# Forward pass\u001b[39;00m\n\u001b[0;32m---> <a href='vscode-notebook-cell:/Users/purushothamanyadav/Documents/NCSU/Spring23/Adv%20ML/HWs/HW3/main.ipynb#X30sZmlsZQ%3D%3D?line=17'>18</a>\u001b[0m X_hat, mu, log_var \u001b[39m=\u001b[39m model(X,y) \n\u001b[1;32m     <a href='vscode-notebook-cell:/Users/purushothamanyadav/Documents/NCSU/Spring23/Adv%20ML/HWs/HW3/main.ipynb#X30sZmlsZQ%3D%3D?line=19'>20</a>\u001b[0m \u001b[39m# Calculate loss\u001b[39;00m\n\u001b[1;32m     <a href='vscode-notebook-cell:/Users/purushothamanyadav/Documents/NCSU/Spring23/Adv%20ML/HWs/HW3/main.ipynb#X30sZmlsZQ%3D%3D?line=20'>21</a>\u001b[0m loss \u001b[39m=\u001b[39m loss_function(X, X_hat, mu, log_var)\n",
      "File \u001b[0;32m~/Documents/ML/ML/lib/python3.10/site-packages/torch/nn/modules/module.py:1190\u001b[0m, in \u001b[0;36mModule._call_impl\u001b[0;34m(self, *input, **kwargs)\u001b[0m\n\u001b[1;32m   1186\u001b[0m \u001b[39m# If we don't have any hooks, we want to skip the rest of the logic in\u001b[39;00m\n\u001b[1;32m   1187\u001b[0m \u001b[39m# this function, and just call forward.\u001b[39;00m\n\u001b[1;32m   1188\u001b[0m \u001b[39mif\u001b[39;00m \u001b[39mnot\u001b[39;00m (\u001b[39mself\u001b[39m\u001b[39m.\u001b[39m_backward_hooks \u001b[39mor\u001b[39;00m \u001b[39mself\u001b[39m\u001b[39m.\u001b[39m_forward_hooks \u001b[39mor\u001b[39;00m \u001b[39mself\u001b[39m\u001b[39m.\u001b[39m_forward_pre_hooks \u001b[39mor\u001b[39;00m _global_backward_hooks\n\u001b[1;32m   1189\u001b[0m         \u001b[39mor\u001b[39;00m _global_forward_hooks \u001b[39mor\u001b[39;00m _global_forward_pre_hooks):\n\u001b[0;32m-> 1190\u001b[0m     \u001b[39mreturn\u001b[39;00m forward_call(\u001b[39m*\u001b[39;49m\u001b[39minput\u001b[39;49m, \u001b[39m*\u001b[39;49m\u001b[39m*\u001b[39;49mkwargs)\n\u001b[1;32m   1191\u001b[0m \u001b[39m# Do not call functions when jit is used\u001b[39;00m\n\u001b[1;32m   1192\u001b[0m full_backward_hooks, non_full_backward_hooks \u001b[39m=\u001b[39m [], []\n",
      "\u001b[1;32m/Users/purushothamanyadav/Documents/NCSU/Spring23/Adv ML/HWs/HW3/main.ipynb Cell 12\u001b[0m in \u001b[0;36mConditionalVAE.forward\u001b[0;34m(self, input, c)\u001b[0m\n\u001b[1;32m     <a href='vscode-notebook-cell:/Users/purushothamanyadav/Documents/NCSU/Spring23/Adv%20ML/HWs/HW3/main.ipynb#X30sZmlsZQ%3D%3D?line=97'>98</a>\u001b[0m x \u001b[39m=\u001b[39m torch\u001b[39m.\u001b[39mcat([\u001b[39minput\u001b[39m, embedded_class], dim \u001b[39m=\u001b[39m \u001b[39m1\u001b[39m)\n\u001b[1;32m     <a href='vscode-notebook-cell:/Users/purushothamanyadav/Documents/NCSU/Spring23/Adv%20ML/HWs/HW3/main.ipynb#X30sZmlsZQ%3D%3D?line=98'>99</a>\u001b[0m mu, log_var \u001b[39m=\u001b[39m \u001b[39mself\u001b[39m\u001b[39m.\u001b[39mencode(x)\n\u001b[0;32m--> <a href='vscode-notebook-cell:/Users/purushothamanyadav/Documents/NCSU/Spring23/Adv%20ML/HWs/HW3/main.ipynb#X30sZmlsZQ%3D%3D?line=100'>101</a>\u001b[0m z \u001b[39m=\u001b[39m \u001b[39mself\u001b[39;49m\u001b[39m.\u001b[39;49mreparameterize(mu, log_var)\n\u001b[1;32m    <a href='vscode-notebook-cell:/Users/purushothamanyadav/Documents/NCSU/Spring23/Adv%20ML/HWs/HW3/main.ipynb#X30sZmlsZQ%3D%3D?line=102'>103</a>\u001b[0m z \u001b[39m=\u001b[39m torch\u001b[39m.\u001b[39mcat([z, c], dim \u001b[39m=\u001b[39m \u001b[39m1\u001b[39m)\n\u001b[1;32m    <a href='vscode-notebook-cell:/Users/purushothamanyadav/Documents/NCSU/Spring23/Adv%20ML/HWs/HW3/main.ipynb#X30sZmlsZQ%3D%3D?line=103'>104</a>\u001b[0m \u001b[39mreturn\u001b[39;00m  \u001b[39mself\u001b[39m\u001b[39m.\u001b[39mdecode(z), mu, log_var\n",
      "\u001b[1;32m/Users/purushothamanyadav/Documents/NCSU/Spring23/Adv ML/HWs/HW3/main.ipynb Cell 12\u001b[0m in \u001b[0;36mConditionalVAE.reparameterize\u001b[0;34m(self, mu, logvar)\u001b[0m\n\u001b[1;32m     <a href='vscode-notebook-cell:/Users/purushothamanyadav/Documents/NCSU/Spring23/Adv%20ML/HWs/HW3/main.ipynb#X30sZmlsZQ%3D%3D?line=86'>87</a>\u001b[0m \u001b[39mdef\u001b[39;00m \u001b[39mreparameterize\u001b[39m(\u001b[39mself\u001b[39m, mu, logvar) :\n\u001b[1;32m     <a href='vscode-notebook-cell:/Users/purushothamanyadav/Documents/NCSU/Spring23/Adv%20ML/HWs/HW3/main.ipynb#X30sZmlsZQ%3D%3D?line=88'>89</a>\u001b[0m     std \u001b[39m=\u001b[39m torch\u001b[39m.\u001b[39mexp(\u001b[39m0.5\u001b[39m \u001b[39m*\u001b[39m logvar)\n\u001b[0;32m---> <a href='vscode-notebook-cell:/Users/purushothamanyadav/Documents/NCSU/Spring23/Adv%20ML/HWs/HW3/main.ipynb#X30sZmlsZQ%3D%3D?line=89'>90</a>\u001b[0m     eps \u001b[39m=\u001b[39m torch\u001b[39m.\u001b[39;49mrandn_like(std)\n\u001b[1;32m     <a href='vscode-notebook-cell:/Users/purushothamanyadav/Documents/NCSU/Spring23/Adv%20ML/HWs/HW3/main.ipynb#X30sZmlsZQ%3D%3D?line=90'>91</a>\u001b[0m     \u001b[39mreturn\u001b[39;00m eps \u001b[39m*\u001b[39m std \u001b[39m+\u001b[39m mu\n",
      "\u001b[0;31mKeyboardInterrupt\u001b[0m: "
     ]
    }
   ],
   "source": [
    "epochs = 20\n",
    "\n",
    "train_plot = []\n",
    "test_plot = []\n",
    "\n",
    "for epoch in range(epochs):\n",
    "    print(f\"Epoch: {epoch}\\n---------\")\n",
    "    train_loss, train_acc = train_step(data_loader=train_data_loader, \n",
    "        model=model, \n",
    "        optimizer=optimizer\n",
    "    )\n",
    "    \n",
    "    train_plot.append((train_acc, train_loss))\n",
    "\n",
    "    test_loss, test_acc = test_step(data_loader=test_data_loader,\n",
    "        model=model,\n",
    "    )\n",
    "    test_plot.append((test_acc, test_loss))"
   ]
  },
  {
   "cell_type": "code",
   "execution_count": null,
   "metadata": {},
   "outputs": [],
   "source": []
  }
 ],
 "metadata": {
  "kernelspec": {
   "display_name": "ML",
   "language": "python",
   "name": "python3"
  },
  "language_info": {
   "codemirror_mode": {
    "name": "ipython",
    "version": 3
   },
   "file_extension": ".py",
   "mimetype": "text/x-python",
   "name": "python",
   "nbconvert_exporter": "python",
   "pygments_lexer": "ipython3",
   "version": "3.10.9"
  },
  "orig_nbformat": 4
 },
 "nbformat": 4,
 "nbformat_minor": 2
}
